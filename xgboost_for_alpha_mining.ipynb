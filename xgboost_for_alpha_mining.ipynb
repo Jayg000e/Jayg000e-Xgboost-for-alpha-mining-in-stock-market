{
 "cells": [
  {
   "cell_type": "markdown",
   "id": "ce2b2567",
   "metadata": {},
   "source": [
    "# 基于XGboost 的alpha mining\n",
    "\n",
    "## by 郭嘉\n",
    "\n",
    "   不少投资者对于技术面分析嗤之以鼻，但如果在找到合适的alpha后利用股指期货对冲掉系统性风险（neutralization部分人翻译为中性，其实其更常用的意思为消灭），收入应当还是比较乐观的。然而一些技术面分析方法被私募基金公司作为私有财产而未公开，下面仅通过目前比较流行的机器学习算法XGboost获得3个alpha作为简要示例，该算法被数据分析师在许多数据分析比赛中取得优异成绩，并且由其能够并行，在大规模数据上也能很快地进行训练，从精确度和速度两方面来说都是一个比较合适的选择。"
   ]
  },
  {
   "cell_type": "markdown",
   "id": "3fb8b22f",
   "metadata": {},
   "source": [
    "## 导入必要的库\n",
    "\n",
    "* baostock:导入股票数据（tushare现在需要收费所以使用这个）\n",
    "* joblib:python并行计算库（后续需要大量处理数据，不并行会非常慢）\n",
    "* xgboost算法实现模块和sklearn中的神经网络模块（后面发现神经网络找到的alpha效果一般，可以作为警示）"
   ]
  },
  {
   "cell_type": "code",
   "execution_count": 1,
   "id": "e64086c0",
   "metadata": {},
   "outputs": [],
   "source": [
    "import baostock as bs\n",
    "import pandas as pd\n",
    "from joblib import Parallel,delayed\n",
    "import numpy as np\n",
    "import multiprocessing\n",
    "\n",
    "from sklearn.neural_network import MLPRegressor\n",
    "import xgboost as xgb"
   ]
  },
  {
   "cell_type": "markdown",
   "id": "9d421747",
   "metadata": {},
   "source": [
    "## 进行数据下载和一些必要的数据预处理\n",
    "\n",
    "### 这里T日对应行内主要的特征包括T-5日到T-1日的每日开盘价open,收盘价close，最高价high，最低价low，平均交易价格vwap，高低价差hl，开低价差ol，收低价差cl，均低价差vl以及换手率turn\n",
    "\n",
    "### 以上共$10*5=50$个特征\n",
    "\n",
    "### 对vwap，hl，ol，cl，vl，turn作T-5日到T-1日的两两相关系数得到剩下的$15$个特征"
   ]
  },
  {
   "cell_type": "code",
   "execution_count": 2,
   "id": "febc7228",
   "metadata": {},
   "outputs": [],
   "source": [
    "sz_prefixs=['000','001','002','003']\n",
    "sh_prefixs=['600','601','603','605','688']\n",
    "\n",
    "sz_codes=[\"sz.\"+prefixs+str(suffixs).zfill(3) for prefixs in sz_prefixs for suffixs in range(1000)]\n",
    "sh_codes=[\"sh.\"+prefixs+str(suffixs).zfill(3) for prefixs in sh_prefixs for suffixs in range(1000)]\n",
    "stock_codes=sz_codes+sh_codes\n",
    "stock_codes.append('sh.689009')\n",
    "\n",
    "shift_keys=['open','close','high','low','vwap','hl','ol','cl','vl','turn']\n",
    "keys_dict={'open': ['T-1_open', 'T-2_open', 'T-3_open', 'T-4_open', 'T-5_open'], 'close': ['T-1_close', 'T-2_close', 'T-3_close', 'T-4_close', 'T-5_close'], 'high': ['T-1_high', 'T-2_high', 'T-3_high', 'T-4_high', 'T-5_high'], 'low': ['T-1_low', 'T-2_low', 'T-3_low', 'T-4_low', 'T-5_low'], 'vwap': ['T-1_vwap', 'T-2_vwap', 'T-3_vwap', 'T-4_vwap', 'T-5_vwap'], 'hl': ['T-1_hl', 'T-2_hl', 'T-3_hl', 'T-4_hl', 'T-5_hl'], 'ol': ['T-1_ol', 'T-2_ol', 'T-3_ol', 'T-4_ol', 'T-5_ol'], 'cl': ['T-1_cl', 'T-2_cl', 'T-3_cl', 'T-4_cl', 'T-5_cl'], 'vl': ['T-1_vl', 'T-2_vl', 'T-3_vl', 'T-4_vl', 'T-5_vl'], 'turn': ['T-1_turn', 'T-2_turn', 'T-3_turn', 'T-4_turn', 'T-5_turn']}"
   ]
  },
  {
   "cell_type": "code",
   "execution_count": 3,
   "id": "adeb10d1",
   "metadata": {},
   "outputs": [],
   "source": [
    "def get_stock_data(stock_code):\n",
    "    lg = bs.login()\n",
    "    rs_result = bs.query_history_k_data_plus(stock_code,\n",
    "        \"date,code,open,high,low,close,volume,amount,turn,isST\",\n",
    "        start_date='2020-12-25', end_date='2021-12-01',\n",
    "        frequency=\"d\", adjustflag=\"3\")\n",
    "    df_result = rs_result.get_data()\n",
    "    \n",
    "    if df_result.empty==False:\n",
    "        df_result=df_result.apply(lambda x: pd.to_numeric(x) if x.name not in ['date','code'] else x)\n",
    "        if 1 not in list(df_result['isST']):\n",
    "            df_result['T+1_open'] = df_result['open'].shift(-1)\n",
    "            df_result['return'] = df_result['T+1_open'] / df_result['open'] -1\n",
    "            df_result['vwap'] = df_result['amount']/df_result['volume']\n",
    "            \n",
    "            df_result['hl']=df_result['high']-df_result['low']\n",
    "            df_result['ol']=df_result['open']-df_result['low']\n",
    "            df_result['cl']=df_result['close']-df_result['low']\n",
    "            df_result['vl']=df_result['vwap']-df_result['low']\n",
    "            \n",
    "            for shift_key in shift_keys:\n",
    "                keys=[]\n",
    "                for shift_time in range(1,6):\n",
    "                    df_result['T-'+str(shift_time)+'_'+shift_key]=df_result[shift_key].shift(shift_time)\n",
    "            df_result.drop(['open','high','low','close','volume','amount','isST','T+1_open'],axis=1,inplace=True)\n",
    "            df_result.dropna(how='any',inplace=True)\n",
    "            return df_result[5:-1]"
   ]
  },
  {
   "cell_type": "code",
   "execution_count": 4,
   "id": "c5c594b2",
   "metadata": {},
   "outputs": [],
   "source": [
    "temp=Parallel(n_jobs=-1)(delayed(get_stock_data)(stock_code) for stock_code in stock_codes)\n",
    "stock_list=[stock for stock in temp if stock is not None]\n",
    "stock_data=pd.concat(stock_list,ignore_index=True)"
   ]
  },
  {
   "cell_type": "code",
   "execution_count": 5,
   "id": "0f4daecb",
   "metadata": {},
   "outputs": [],
   "source": [
    "def get_correlation(stock_data):\n",
    "    for i,shift_key1 in enumerate(shift_keys):\n",
    "                for shift_key2 in shift_keys[i+1:]:\n",
    "                    df1=stock_data[keys_dict[shift_key1]]\n",
    "                    df1.columns=[1,2,3,4,5]\n",
    "                    df2=stock_data[keys_dict[shift_key2]]\n",
    "                    df2.columns=[1,2,3,4,5]\n",
    "                    stock_data['cor_'+shift_key1+'_'+shift_key2]=df1.corrwith(df2,method='pearson',axis=1)\n",
    "                    cor_keys.append('cor_'+shift_key1+'_'+shift_key2)"
   ]
  },
  {
   "cell_type": "code",
   "execution_count": 6,
   "id": "abb36028",
   "metadata": {},
   "outputs": [],
   "source": [
    "cor_keys=[]\n",
    "shift_keys=['vwap','hl','ol','cl','vl','turn']\n",
    "get_correlation(stock_data)\n",
    "stock_data.dropna(how='any',inplace=True)"
   ]
  },
  {
   "cell_type": "markdown",
   "id": "e9da78c2",
   "metadata": {},
   "source": [
    "## 试探性看一看后15个与相关系数有关的特征如果作为alpha的话RankIC表现"
   ]
  },
  {
   "cell_type": "code",
   "execution_count": 7,
   "id": "68afb302",
   "metadata": {},
   "outputs": [],
   "source": [
    "def get_rank(date,df,key):\n",
    "    ranked_data=df[df['date']==date].sort_values(by=key,ascending=False)\n",
    "    ranked_data['rank_'+key]=range(1,len(ranked_data)+1)\n",
    "    return ranked_data"
   ]
  },
  {
   "cell_type": "code",
   "execution_count": 8,
   "id": "bb8a74d4",
   "metadata": {},
   "outputs": [],
   "source": [
    "stock_data=pd.concat(Parallel(n_jobs=-1)(delayed(get_rank)(date,stock_data,'return') for date in stock_data['date'].unique()))"
   ]
  },
  {
   "cell_type": "code",
   "execution_count": 9,
   "id": "b636f6a3",
   "metadata": {},
   "outputs": [
    {
     "name": "stderr",
     "output_type": "stream",
     "text": [
      "100%|██████████████████████████████████████████████████████████████████████████████████| 15/15 [22:31<00:00, 90.10s/it]\n"
     ]
    }
   ],
   "source": [
    "from tqdm import tqdm\n",
    "for cor_key in tqdm(cor_keys):\n",
    "    stock_data=pd.concat(Parallel(n_jobs=-1)(delayed(get_rank)(date,stock_data,cor_key) for date in stock_data['date'].unique()))"
   ]
  },
  {
   "cell_type": "code",
   "execution_count": 10,
   "id": "89981e69",
   "metadata": {},
   "outputs": [],
   "source": [
    "alphas={possible_alpha:stock_data['rank_return'].corr(stock_data[possible_alpha]) for possible_alpha in cor_keys if abs(stock_data['rank_return'].corr(stock_data[possible_alpha]))>0.02}"
   ]
  },
  {
   "cell_type": "code",
   "execution_count": 11,
   "id": "65819185",
   "metadata": {},
   "outputs": [
    {
     "data": {
      "text/plain": [
       "['cor_vwap_hl',\n",
       " 'cor_vwap_ol',\n",
       " 'cor_vwap_cl',\n",
       " 'cor_vwap_vl',\n",
       " 'cor_vwap_turn',\n",
       " 'cor_hl_ol',\n",
       " 'cor_hl_cl',\n",
       " 'cor_hl_vl',\n",
       " 'cor_hl_turn',\n",
       " 'cor_ol_cl',\n",
       " 'cor_ol_vl',\n",
       " 'cor_ol_turn',\n",
       " 'cor_cl_vl',\n",
       " 'cor_cl_turn',\n",
       " 'cor_vl_turn']"
      ]
     },
     "execution_count": 11,
     "metadata": {},
     "output_type": "execute_result"
    }
   ],
   "source": [
    "cor_keys"
   ]
  },
  {
   "cell_type": "markdown",
   "id": "ea9a84f4",
   "metadata": {},
   "source": [
    "## 并不理想，最好的RankIC只有$0.026$"
   ]
  },
  {
   "cell_type": "code",
   "execution_count": 12,
   "id": "cea9ad31",
   "metadata": {
    "scrolled": true
   },
   "outputs": [
    {
     "data": {
      "text/plain": [
       "{'cor_hl_cl': 0.025541762804313466,\n",
       " 'cor_cl_vl': 0.021228305614368313,\n",
       " 'cor_cl_turn': 0.020273131098434056}"
      ]
     },
     "execution_count": 12,
     "metadata": {},
     "output_type": "execute_result"
    }
   ],
   "source": [
    "alphas"
   ]
  },
  {
   "cell_type": "markdown",
   "id": "5a2f75c7",
   "metadata": {},
   "source": [
    "## 试探性地使用单层神经网络处理前25个特征，以其输出作为alpha，效果也不尽理想"
   ]
  },
  {
   "cell_type": "code",
   "execution_count": 13,
   "id": "c7d38dc8",
   "metadata": {},
   "outputs": [],
   "source": [
    "feat=['T-1_open', 'T-2_open', 'T-3_open', 'T-4_open', 'T-5_open']+ ['T-1_close', 'T-2_close', 'T-3_close', 'T-4_close', 'T-5_close']+ ['T-1_high', 'T-2_high', 'T-3_high', 'T-4_high', 'T-5_high']+ ['T-1_low', 'T-2_low', 'T-3_low', 'T-4_low', 'T-5_low']+ ['T-1_vwap', 'T-2_vwap', 'T-3_vwap', 'T-4_vwap', 'T-5_vwap']+ ['T-1_hl', 'T-2_hl', 'T-3_hl', 'T-4_hl', 'T-5_hl']+ ['T-1_ol', 'T-2_ol', 'T-3_ol', 'T-4_ol', 'T-5_ol']+ ['T-1_cl', 'T-2_cl', 'T-3_cl', 'T-4_cl', 'T-5_cl']+ ['T-1_vl', 'T-2_vl', 'T-3_vl', 'T-4_vl', 'T-5_vl']+ ['T-1_turn', 'T-2_turn', 'T-3_turn', 'T-4_turn', 'T-5_turn']+cor_keys"
   ]
  },
  {
   "cell_type": "code",
   "execution_count": 17,
   "id": "78c84f57",
   "metadata": {},
   "outputs": [
    {
     "name": "stderr",
     "output_type": "stream",
     "text": [
      "100%|█████████████████████████████████████████████████████████████████████████████████| 29/29 [55:20<00:00, 114.50s/it]\n"
     ]
    }
   ],
   "source": [
    "for neurons in tqdm(range(1,30)):\n",
    "    regr = MLPRegressor(random_state=2, hidden_layer_sizes=(neurons),max_iter=200)\n",
    "    regr.fit(stock_data[feat[:25]],stock_data['return'])\n",
    "    stock_data['alpha1']=regr.predict(stock_data[feat[:25]])\n",
    "    stock_data=pd.concat(Parallel(n_jobs=-1)(delayed(get_rank)(date,stock_data,'alpha1') for date in stock_data['date'].unique()))\n",
    "    RankIC=stock_data['rank_alpha1'].corr(stock_data['rank_return'])\n",
    "    if abs(RankIC)>0.03:\n",
    "        print(neurons,':',RankIC)"
   ]
  },
  {
   "cell_type": "markdown",
   "id": "c5e2bfa6",
   "metadata": {},
   "source": [
    "## 使用XGboost处理得到了三个令人满意的alpha\n",
    "\n",
    "### 第一个alpha使用T-5日到T-1日的open，close，high，low，vwap作为输入，RankIC为0.08\n",
    "\n",
    "### $alpha1=XGboost（open_{T-5:T-1},close_{T-5:T-1},high_{T-5:T-1},low_{T-5:T-1},vwap_{T-5:T-1},hyperparameters1）$"
   ]
  },
  {
   "cell_type": "code",
   "execution_count": 24,
   "id": "98358bb3",
   "metadata": {},
   "outputs": [
    {
     "data": {
      "text/plain": [
       "0.0808810435150292"
      ]
     },
     "execution_count": 24,
     "metadata": {},
     "output_type": "execute_result"
    }
   ],
   "source": [
    "xgb_model = xgb.XGBRegressor(n_jobs=multiprocessing.cpu_count())\n",
    "xgb_model.fit(stock_data[feat[:25]],stock_data['return'])\n",
    "stock_data['alpha1']=xgb_model.predict(stock_data[feat[:25]])\n",
    "stock_data=pd.concat(Parallel(n_jobs=-1)(delayed(get_rank)(date,stock_data,'alpha1') for date in stock_data['date'].unique()))\n",
    "RankIC=stock_data['rank_alpha1'].corr(stock_data['rank_return'])\n",
    "RankIC"
   ]
  },
  {
   "cell_type": "markdown",
   "id": "536222f8",
   "metadata": {},
   "source": [
    "### 第二个alpha使用T-5日到T-1日的hl，ol，cl，vl，turn作为输入，RankIC为0.13\n",
    "\n",
    "### $alpha2=XGboost（hl_{T-5:T-1},ol_{T-5:T-1},cl_{T-5:T-1},vl_{T-5:T-1},turn_{T-5:T-1},hyperparameters2）$"
   ]
  },
  {
   "cell_type": "code",
   "execution_count": 33,
   "id": "79c6b99c",
   "metadata": {},
   "outputs": [
    {
     "data": {
      "text/plain": [
       "0.12862307889420152"
      ]
     },
     "execution_count": 33,
     "metadata": {},
     "output_type": "execute_result"
    }
   ],
   "source": [
    "xgb_model = xgb.XGBRegressor(n_jobs=multiprocessing.cpu_count())\n",
    "xgb_model.fit(stock_data[feat[25:50]],stock_data['return'])\n",
    "stock_data['alpha2']=xgb_model.predict(stock_data[feat[25:50]])\n",
    "stock_data=pd.concat(Parallel(n_jobs=-1)(delayed(get_rank)(date,stock_data,'alpha2') for date in stock_data['date'].unique()))\n",
    "RankIC=stock_data['rank_alpha2'].corr(stock_data['rank_return'])\n",
    "RankIC"
   ]
  },
  {
   "cell_type": "markdown",
   "id": "973a3a5e",
   "metadata": {},
   "source": [
    "### 第三个alpha使用vwap，hl，ol，cl，vl，turn作T-5日到T-1日的两两相关系数作为输入，RankIC为0.09\n",
    "\n",
    "### $alpha3=XGboost（Correlationset(vwap，hl，ol，cl，vl，turn)_{T-5:T-1},hyperparameters3）$"
   ]
  },
  {
   "cell_type": "code",
   "execution_count": 34,
   "id": "c7a2f594",
   "metadata": {},
   "outputs": [
    {
     "data": {
      "text/plain": [
       "0.09408876184880767"
      ]
     },
     "execution_count": 34,
     "metadata": {},
     "output_type": "execute_result"
    }
   ],
   "source": [
    "xgb_model = xgb.XGBRegressor(n_jobs=multiprocessing.cpu_count())\n",
    "xgb_model.fit(stock_data[feat[50:]],stock_data['return'])\n",
    "stock_data['alpha3']=xgb_model.predict(stock_data[feat[50:]])\n",
    "stock_data=pd.concat(Parallel(n_jobs=-1)(delayed(get_rank)(date,stock_data,'alpha3') for date in stock_data['date'].unique()))\n",
    "RankIC=stock_data['rank_alpha3'].corr(stock_data['rank_return'])\n",
    "RankIC"
   ]
  },
  {
   "cell_type": "markdown",
   "id": "b2bbab5d",
   "metadata": {},
   "source": [
    "## 上述三个alpha的RankIC 在2021-01-04到 2021-11-30日的3234只沪深A股上测得"
   ]
  },
  {
   "cell_type": "code",
   "execution_count": 35,
   "id": "c985c915",
   "metadata": {},
   "outputs": [
    {
     "data": {
      "text/plain": [
       "3234"
      ]
     },
     "execution_count": 35,
     "metadata": {},
     "output_type": "execute_result"
    }
   ],
   "source": [
    "len(stock_data['code'].unique())"
   ]
  }
 ],
 "metadata": {
  "kernelspec": {
   "display_name": "Python 3 (ipykernel)",
   "language": "python",
   "name": "python3"
  },
  "language_info": {
   "codemirror_mode": {
    "name": "ipython",
    "version": 3
   },
   "file_extension": ".py",
   "mimetype": "text/x-python",
   "name": "python",
   "nbconvert_exporter": "python",
   "pygments_lexer": "ipython3",
   "version": "3.9.7"
  }
 },
 "nbformat": 4,
 "nbformat_minor": 5
}
